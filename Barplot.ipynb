{
  "nbformat": 4,
  "nbformat_minor": 0,
  "metadata": {
    "colab": {
      "name": "Barplot.ipynb",
      "provenance": [],
      "authorship_tag": "ABX9TyOpC60Y0/mNWYdy2surUnha",
      "include_colab_link": true
    },
    "kernelspec": {
      "name": "python3",
      "display_name": "Python 3"
    },
    "language_info": {
      "name": "python"
    }
  },
  "cells": [
    {
      "cell_type": "markdown",
      "metadata": {
        "id": "view-in-github",
        "colab_type": "text"
      },
      "source": [
        "<a href=\"https://colab.research.google.com/github/SurajGusain0007/Seaborn_library/blob/main/Barplot.ipynb\" target=\"_parent\"><img src=\"https://colab.research.google.com/assets/colab-badge.svg\" alt=\"Open In Colab\"/></a>"
      ]
    },
    {
      "cell_type": "markdown",
      "source": [
        "**A bar chart is used when you want to show a distribution of data points or perform a comparison of metric values across different subgroups of your data. From a bar chart, we can see which groups are highest or most common, and how other groups compare against the others.Bar graph or Bar Plot: Bar Plot is a visualization of x and y numeric and categorical dataset variable in a graph to find the relationship between them.**"
      ],
      "metadata": {
        "id": "0Iw6vPiY5f5l"
      }
    },
    {
      "cell_type": "code",
      "source": [
        "import pandas as pd\n",
        "import matplotlib.pyplot as plt\n",
        "import seaborn as sns"
      ],
      "metadata": {
        "id": "WPqHU27T5ix_"
      },
      "execution_count": 1,
      "outputs": []
    },
    {
      "cell_type": "code",
      "source": [
        "tips=sns.load_dataset(\"tips\")\n",
        "tips.head(1)\n",
        "tips['total_bill'].min()"
      ],
      "metadata": {
        "colab": {
          "base_uri": "https://localhost:8080/"
        },
        "id": "dD5YQGcf6Iiq",
        "outputId": "032a5b9c-ed98-4b4d-f074-e1b3e2df5328"
      },
      "execution_count": 27,
      "outputs": [
        {
          "output_type": "execute_result",
          "data": {
            "text/plain": [
              "3.07"
            ]
          },
          "metadata": {},
          "execution_count": 27
        }
      ]
    },
    {
      "cell_type": "code",
      "source": [
        "# Plot tips_df.day & tips_df.total_bill barplot\n",
        "sns.barplot(x ='day', y ='total_bill', data=tips)\n",
        "plt.show()"
      ],
      "metadata": {
        "colab": {
          "base_uri": "https://localhost:8080/",
          "height": 279
        },
        "id": "lZtN6iTV6JWd",
        "outputId": "f9c48314-fb18-4d59-b840-26a167d44245"
      },
      "execution_count": 7,
      "outputs": [
        {
          "output_type": "display_data",
          "data": {
            "text/plain": [
              "<Figure size 432x288 with 1 Axes>"
            ],
            "image/png": "[encoded data removed]"
          },
          "metadata": {
            "needs_background": "light"
          }
        }
      ]
    },
    {
      "cell_type": "code",
      "source": [
        "# Devide barplot using hue parameter\n",
        "sns.barplot(x = tips.day, y = tips.total_bill, hue = tips.sex)\n",
        "plt.show()"
      ],
      "metadata": {
        "colab": {
          "base_uri": "https://localhost:8080/",
          "height": 279
        },
        "id": "jhE9OfQh7J42",
        "outputId": "d814b921-bbc8-4aed-a910-6a2003cac808"
      },
      "execution_count": 15,
      "outputs": [
        {
          "output_type": "display_data",
          "data": {
            "text/plain": [
              "<Figure size 432x288 with 1 Axes>"
            ],
            "image/png": "[encoded data removed]"
          },
          "metadata": {
            "needs_background": "light"
          }
        }
      ]
    },
    {
      "cell_type": "code",
      "source": [
        ""
      ],
      "metadata": {
        "id": "MgnzPlaH9H1t"
      },
      "execution_count": null,
      "outputs": []
    },
    {
      "cell_type": "code",
      "source": [
        "# Pass dataset using data parameter\n",
        "sns.barplot(x = 'day', y = 'total_bill', hue = 'sex',\n",
        "           data = tips)\n",
        "plt.show()"
      ],
      "metadata": {
        "colab": {
          "base_uri": "https://localhost:8080/",
          "height": 279
        },
        "id": "3Qyy5NgU7W4y",
        "outputId": "5e9be90b-a899-4b3b-e7c2-abfccbfd9849"
      },
      "execution_count": 14,
      "outputs": [
        {
          "output_type": "display_data",
          "data": {
            "text/plain": [
              "<Figure size 432x288 with 1 Axes>"
            ],
            "image/png": "[encoded data removed]"
          },
          "metadata": {
            "needs_background": "light"
          }
        }
      ]
    },
    {
      "cell_type": "code",
      "source": [
        "#In the above bar plot, tips.day x categorical variable contains 4 days in order [‘Thur’, ‘Fri’, ‘Sat’, ‘Sun’] but you want to change its order then use it\n",
        "# modify the order of day\n",
        "order = ['Sun', 'Thur', 'Fri', 'Sat']\n",
        " \n",
        "sns.barplot(x = 'day', y = 'total_bill', hue = 'sex',\n",
        "           data = tips, order = order)\n",
        "plt.show()\n"
      ],
      "metadata": {
        "colab": {
          "base_uri": "https://localhost:8080/",
          "height": 279
        },
        "id": "b8JGOV3q7m1t",
        "outputId": "7cae9208-9cf7-4a41-e50b-832783c93a82"
      },
      "execution_count": 13,
      "outputs": [
        {
          "output_type": "display_data",
          "data": {
            "text/plain": [
              "<Figure size 432x288 with 1 Axes>"
            ],
            "image/png": "[encoded data removed]"
          },
          "metadata": {
            "needs_background": "light"
          }
        }
      ]
    },
    {
      "cell_type": "code",
      "source": [
        "#To change hue order then use it. In above graph hue order is [‘Male’, ‘Female’] but your requirement [‘Female, ‘Male’] then follow bellow code snippet.\n",
        "#Modify hue order\n",
        "hue_order = ['Female', 'Male']\n",
        " \n",
        "sns.barplot(x = 'day', y = 'total_bill', hue = 'sex',\n",
        "           data = tips, hue_order = hue_order)\n",
        "plt.show()\n"
      ],
      "metadata": {
        "colab": {
          "base_uri": "https://localhost:8080/",
          "height": 279
        },
        "id": "VmjNqQEC7nBm",
        "outputId": "b9e5667a-6087-4b51-993d-4a9461c7695c"
      },
      "execution_count": 12,
      "outputs": [
        {
          "output_type": "display_data",
          "data": {
            "text/plain": [
              "<Figure size 432x288 with 1 Axes>"
            ],
            "image/png": "[encoded data removed]"
          },
          "metadata": {
            "needs_background": "light"
          }
        }
      ]
    },
    {
      "cell_type": "code",
      "source": [
        "# estimate y variable value and then plot\n",
        "import numpy as np\n",
        "sns.barplot(x = 'day', y = 'total_bill', hue = 'sex',\n",
        "           data = tips, estimator= np.max)\n",
        "plt.show()"
      ],
      "metadata": {
        "colab": {
          "base_uri": "https://localhost:8080/",
          "height": 279
        },
        "id": "zcrVhWSd9KXK",
        "outputId": "5f273299-1146-42e6-a491-c7d1591a710d"
      },
      "execution_count": 29,
      "outputs": [
        {
          "output_type": "display_data",
          "data": {
            "text/plain": [
              "<Figure size 432x288 with 1 Axes>"
            ],
            "image/png": "[encoded data removed]"
          },
          "metadata": {
            "needs_background": "light"
          }
        }
      ]
    },
    {
      "cell_type": "code",
      "source": [
        "hue_order = ['Female', 'Male']\n",
        " \n",
        "sns.barplot(y= 'day', x = 'total_bill', hue = 'sex',\n",
        "           data = tips, hue_order = hue_order,orient='h',ci=40)#0-100\n",
        "plt.show()"
      ],
      "metadata": {
        "colab": {
          "base_uri": "https://localhost:8080/",
          "height": 280
        },
        "id": "kV_S72GU_R8z",
        "outputId": "8ff5f553-dd4f-4a39-93bc-42e8424e0513"
      },
      "execution_count": 35,
      "outputs": [
        {
          "output_type": "display_data",
          "data": {
            "text/plain": [
              "<Figure size 432x288 with 1 Axes>"
            ],
            "image/png": "[encoded data removed]"
          },
          "metadata": {
            "needs_background": "light"
          }
        }
      ]
    },
    {
      "cell_type": "code",
      "source": [
        ""
      ],
      "metadata": {
        "id": "8tXieZhC_SSl"
      },
      "execution_count": null,
      "outputs": []
    }
  ]
}